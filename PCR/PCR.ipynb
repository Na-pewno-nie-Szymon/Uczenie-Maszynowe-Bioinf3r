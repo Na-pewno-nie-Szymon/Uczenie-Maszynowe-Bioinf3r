{
 "cells": [
  {
   "cell_type": "markdown",
   "metadata": {},
   "source": [
    "'''\n",
    "TODO:\n",
    "- review and test each function\n",
    "- stats() needs to be done\n",
    "- check with .pdf if everything is done and ready to publish\n",
    "- write readme.md file with instructions how to install, setup and use program\n",
    "- push to git\n",
    "- email\n",
    "'''"
   ]
  },
  {
   "cell_type": "code",
   "execution_count": null,
   "metadata": {},
   "outputs": [],
   "source": [
    "import pandas as pd\n",
    "import numpy as np\n",
    "import sys\n",
    "import matplotlib.pyplot as plt\n",
    "from sklearn.decomposition import PCA\n",
    "from sklearn.model_selection import train_test_split, KFold\n",
    "from sklearn.linear_model import LinearRegression\n",
    "from sklearn.metrics import mean_squared_error, r2_score"
   ]
  },
  {
   "cell_type": "code",
   "execution_count": null,
   "metadata": {},
   "outputs": [],
   "source": [
    "def data_loader(path: str):\n",
    "    '''\n",
    "        1. Import standaryzowanego zestawu danych 'dane_leki.xlsx'\n",
    "    '''\n",
    "    data = pd.read_excel(path)\n",
    "    return data\n",
    "\n",
    "def data_setter(data):\n",
    "    '''\n",
    "    Splitting dataset to Y vector and X matrix\n",
    "    '''\n",
    "    Y_vector = data[['logK HSA']]\n",
    "    X_matrix = data[['logKCTAB', 'CATS3D_00_DD', 'CATS3D_09_AL', 'CATS3D_00_AA']]\n",
    "\n",
    "    return Y_vector, X_matrix"
   ]
  },
  {
   "cell_type": "code",
   "execution_count": null,
   "metadata": {},
   "outputs": [],
   "source": [
    "def dataset_splitter(X_matrix, Y_vector, test_size=0.33, random_state=42):\n",
    "    '''\n",
    "        3. Podział na zbiór uczący i walidacyjny (sklearn.model_selection):\n",
    "        - train_test_split -> test_size = 0.33, random_state = 42\n",
    "    '''\n",
    "    X_train, X_test, Y_train, Y_test = train_test_split(X_matrix, Y_vector, test_size=test_size, random_state=random_state)\n",
    "    return X_train, X_test, Y_train, Y_test"
   ]
  },
  {
   "cell_type": "code",
   "execution_count": null,
   "metadata": {},
   "outputs": [],
   "source": [
    "def PCA_(X_matrix):\n",
    "    '''\n",
    "        2. Przeprowadzenie analizy PCA (biblioteka: sklearn.decomposition.pca)\n",
    "    '''\n",
    "    pca = PCA(n_components=0.8)\n",
    "    X_pca = pca.fit_transform(X_matrix)\n",
    "    explained_variance = pca.explained_variance_ratio_\n",
    "    return X_pca, explained_variance"
   ]
  },
  {
   "cell_type": "code",
   "execution_count": null,
   "metadata": {},
   "outputs": [],
   "source": [
    "def plot_pca_variance(explained_variance):\n",
    "    '''\n",
    "    Tworzenie wykresu wariancji wyjaśnionej przez komponenty PCA\n",
    "    '''\n",
    "    n_components = len(explained_variance)\n",
    "    components = np.arange(1, n_components + 1)\n",
    "\n",
    "    plt.figure(figsize=(8, 5))\n",
    "    plt.bar(components, explained_variance, alpha=0.6, label='Wariancja wyjaśniona')\n",
    "    plt.plot(components, np.cumsum(explained_variance), marker='o', color='r', label='Skumulowana wariancja')\n",
    "\n",
    "    plt.xlabel('Liczba komponentów')\n",
    "    plt.ylabel('Wariancja wyjaśniona przez kolejne komponenty PCA')\n",
    "    plt.title('Wariancja wyjaśniona przez kolejne komponenty PCA')\n",
    "    plt.legend()\n",
    "    plt.grid(True)\n",
    "    plt.show()"
   ]
  },
  {
   "cell_type": "code",
   "execution_count": null,
   "metadata": {},
   "outputs": [],
   "source": [
    "def RMSEc(X_train, Y_train):\n",
    "    '''\n",
    "        4. Wykreślenie zależności RMSEc od liczby uwzględnianych głównych składowych:\n",
    "        - metoda walidacji krzyżowej KFold (sklearn.model_selection) -> n_splits = 10, shuffle = True, random_state = 0\n",
    "    '''\n",
    "    kfold = KFold(n_splits=10, shuffle=True, random_state=0)\n",
    "    rmse_values = []\n",
    "\n",
    "    max_components = X_train.shape[1]\n",
    "\n",
    "    for n_components in range(1, max_components + 1):\n",
    "        X_subset = X_train.iloc[:, :n_components]\n",
    "        rmse_fold = []\n",
    "\n",
    "        for train_index, val_index in kfold.split(X_subset):\n",
    "            X_train_fold, X_val_fold = X_subset.iloc[train_index], X_subset.iloc[val_index]\n",
    "            Y_train_fold, Y_val_fold = Y_train.iloc[train_index], Y_train.iloc[val_index]\n",
    "\n",
    "            model = LinearRegression()\n",
    "            model.fit(X_train_fold, Y_train_fold)\n",
    "            Y_pred = model.predict(X_val_fold)\n",
    "\n",
    "            rmse = np.sqrt(mean_squared_error(Y_val_fold, Y_pred))\n",
    "            rmse_fold.append(rmse)\n",
    "        rmse_values.append(np.mean(rmse_fold))\n",
    "    return rmse_values"
   ]
  },
  {
   "cell_type": "code",
   "execution_count": null,
   "metadata": {},
   "outputs": [],
   "source": [
    "def MLR(X_train, X_val, Y_train, Y_val):\n",
    "    '''\n",
    "        5. Zbudowanie modelu regresji liniowej dla istotnej liczby głównych składowych\n",
    "    '''\n",
    "    pca = PCA()\n",
    "    pca.fit(X_train)\n",
    "\n",
    "    optimal_components = 3  # najniższa wartość RMSEc\n",
    "    X_train_pca = pca.transform(X_train)[:, :optimal_components]\n",
    "    X_val_pca = pca.transform(X_val)[:, :optimal_components]\n",
    "\n",
    "    model = LinearRegression()\n",
    "    model.fit(X_train_pca, Y_train)\n",
    "    Y_pred = model.predict(X_val_pca)\n",
    "\n",
    "    rmse = np.sqrt(mean_squared_error(Y_val, Y_pred))\n",
    "    r2 = r2_score(Y_val, Y_pred)\n",
    "\n",
    "    print(f'RMSE:   {rmse}')\n",
    "    print(f'R^2:    {r2}')\n",
    "    pass"
   ]
  },
  {
   "cell_type": "code",
   "execution_count": null,
   "metadata": {},
   "outputs": [],
   "source": [
    "def RMSE_plot(rmse_values):\n",
    "    '''\n",
    "        Tworzenie wykresu RMSE w zaleznosci od liczby komponentow\n",
    "    '''\n",
    "    plt.figure(figsize=(10, 6))\n",
    "    plt.plot(range(1, len(rmse_values) + 1), rmse_values, marker='o')\n",
    "    plt.title('Wartosci RMSE w zaleznosci od liczby glownych skladowych')\n",
    "    plt.xlabel('Liczba glownych skladowych')\n",
    "    plt.ylabel('RMSE')\n",
    "    plt.grid()\n",
    "    plt.show()"
   ]
  },
  {
   "cell_type": "code",
   "execution_count": null,
   "metadata": {},
   "outputs": [],
   "source": [
    "def stats():\n",
    "    '''\n",
    "        6. Obliczenie R^2 i RMSE oddzielnie dla zbiorów kalibracyjnego i walidacyjnego\n",
    "    ''' \n",
    "    pass"
   ]
  },
  {
   "cell_type": "code",
   "execution_count": null,
   "metadata": {},
   "outputs": [],
   "source": [
    "if __name__==\"__main__\":\n",
    "    '''\n",
    "        Proszę, krótko zinterpretować wykres i uzyskane wyniki\n",
    "    '''\n",
    "    try:\n",
    "        path = sys.argv[1]\n",
    "    except IndexError:\n",
    "        path = ''\n",
    "    finally:\n",
    "        if path == '-h' or path == '-help':\n",
    "            print('to use this program copy this line:')\n",
    "            print('python3 PCR.py [path to data]')\n",
    "        else:\n",
    "            data = data_loader(path)\n",
    "            y, X = data_setter(data)\n",
    "            X_pca, explained_variation = PCA_(X_matrix=X)\n",
    "            plot_pca_variance(explained_variation)\n",
    "            X_train, X_test, Y_train, Y_test = dataset_splitter(X, y)\n",
    "            rmse_list = RMSEc(X_train, Y_train)\n",
    "            RMSE_plot(rmse_list)\n",
    "            MLR(X_train, X_test, Y_train, Y_test)\n"
   ]
  }
 ],
 "metadata": {
  "language_info": {
   "name": "python"
  }
 },
 "nbformat": 4,
 "nbformat_minor": 2
}
